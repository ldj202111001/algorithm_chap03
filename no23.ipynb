{
 "cells": [
  {
   "cell_type": "markdown",
   "metadata": {},
   "source": [
    "## 23.다음과 같은 그래프가 주어졌다. 물음에 답하여라\n",
    "![alt text](image-3.png)  \n"
   ]
  },
  {
   "cell_type": "markdown",
   "metadata": {},
   "source": [
    "### (1) 이 그래프를 인접행렬로 표현하라."
   ]
  },
  {
   "cell_type": "markdown",
   "metadata": {},
   "source": [
    "![alt text](image-2.png)"
   ]
  },
  {
   "cell_type": "markdown",
   "metadata": {},
   "source": [
    "### (2) 이 그래프를 리스트로 표현하라."
   ]
  },
  {
   "cell_type": "code",
   "execution_count": null,
   "metadata": {},
   "outputs": [],
   "source": [
    "graph = {\n",
    "            'A' : {'B', 'D', 'E'},\n",
    "            'B' : {'A', 'C', 'E', 'F'},\n",
    "            'C' : {'B', 'G'},\n",
    "            'D' : {'A', 'E'},\n",
    "            'E' : {'A', 'B', 'D'},\n",
    "            'F' : {'B', 'G'},\n",
    "            'G' : {'C', 'F'},\n",
    "}"
   ]
  },
  {
   "cell_type": "markdown",
   "metadata": {},
   "source": [
    "### (3) 정점 A를 출발 정점으로 하고 깊이 우선 방식으로 탐색하였을 때 방문하는 정점을 순서대로 나열하라. 단, 인접한 정점들 중에서는 알파벳으로 먼저 나오는 정점을 먼저 탐색한다고 가정한다."
   ]
  },
  {
   "cell_type": "code",
   "execution_count": 8,
   "metadata": {},
   "outputs": [
    {
     "name": "stdout",
     "output_type": "stream",
     "text": [
      "ABCGFED"
     ]
    }
   ],
   "source": [
    "graph = {\n",
    "            'A' : {'B', 'D', 'E'},\n",
    "            'B' : {'A', 'C', 'E', 'F'},\n",
    "            'C' : {'B', 'G'},\n",
    "            'D' : {'A', 'E'},\n",
    "            'E' : {'A', 'B', 'D'},\n",
    "            'F' : {'B', 'G'},\n",
    "            'G' : {'C', 'F'},\n",
    "}\n",
    "\n",
    "visited = set()    # 방문 집합 초기화\n",
    "\n",
    "def dfs(graph, start, visited):\n",
    "    if start not in visited:     # 시작할려는 지점이 방문하지 않았다면\n",
    "        visited.add(start)       # 방문 체크\n",
    "        print(start, end='')\n",
    "        nbr = graph[start] - visited # nbr: 인접정점중 방문하지 않은 정점\n",
    "        for v in nbr:\n",
    "            dfs(graph, v, visited)\n",
    "\n",
    "dfs(graph, 'A', visited)"
   ]
  },
  {
   "cell_type": "markdown",
   "metadata": {},
   "source": [
    "### (4) 위 문제에서 더 이상 방문하지 않은 인접 정점이 없어 첫 번째로 되돌아가는 정점을 찾아라.\n",
    "A에서 출발하면\n",
    "A - B - C - G 까지 가게 되는데 이때, 갈 수 있는 정점이 없다. 그러므로 방문하지   \n",
    "정점을 찾기위해 갔던길을 되돌아가야 하므로 정답은 정점 G이다."
   ]
  },
  {
   "cell_type": "markdown",
   "metadata": {},
   "source": [
    "### (5) 정점 A를 출발 정점으로 하고 너비 우선 방식으로 탐색하였을 때 방문하는 정점을 순서대로 나열하라. 단, 인접한 정점들 중에서는 알파벳으로 먼저 나오는 정점을 먼저 탐색한다고 가정한다."
   ]
  },
  {
   "cell_type": "code",
   "execution_count": 3,
   "metadata": {},
   "outputs": [
    {
     "name": "stdout",
     "output_type": "stream",
     "text": [
      "<module 'queue' from 'c:\\\\Users\\\\dlehd\\\\anaconda3\\\\Lib\\\\queue.py'>\n",
      "A<module 'queue' from 'c:\\\\Users\\\\dlehd\\\\anaconda3\\\\Lib\\\\queue.py'>\n",
      "D<module 'queue' from 'c:\\\\Users\\\\dlehd\\\\anaconda3\\\\Lib\\\\queue.py'>\n",
      "E<module 'queue' from 'c:\\\\Users\\\\dlehd\\\\anaconda3\\\\Lib\\\\queue.py'>\n",
      "B<module 'queue' from 'c:\\\\Users\\\\dlehd\\\\anaconda3\\\\Lib\\\\queue.py'>\n",
      "F<module 'queue' from 'c:\\\\Users\\\\dlehd\\\\anaconda3\\\\Lib\\\\queue.py'>\n",
      "C<module 'queue' from 'c:\\\\Users\\\\dlehd\\\\anaconda3\\\\Lib\\\\queue.py'>\n",
      "G"
     ]
    }
   ],
   "source": [
    "import queue\n",
    "\n",
    "graph = {\n",
    "            'A' : {'B', 'D', 'E'},\n",
    "            'B' : {'A', 'C', 'E', 'F'},\n",
    "            'C' : {'B', 'G'},\n",
    "            'D' : {'A', 'E'},\n",
    "            'E' : {'A', 'B', 'D'},\n",
    "            'F' : {'B', 'G'},\n",
    "            'G' : {'C', 'F'},\n",
    "}\n",
    "\n",
    "def bfs(graph, start, que):\n",
    "    visited = {start}\n",
    "    \n",
    "    que.put(start)\n",
    "    while not que.empty(): # 종료조건: 큐에 데이터가 없을 때\n",
    "        v = que.get() # 큐에서 데이터 하나를 pop\n",
    "        print(v, end='')\n",
    "        nbr = graph[v] - visited # nbr: 인접정점중 방문하지 않은 정점\n",
    "        for u in nbr: # 인접정점중 방문하지 않은 정점들을 방문 표시를 하고 큐에 넣는다.\n",
    "            que.put(u)\n",
    "            visited.add(u)\n",
    "            \n",
    "\n",
    "que = queue.Queue() # 큐생성\n",
    "bfs(graph, 'A', que)"
   ]
  }
 ],
 "metadata": {
  "kernelspec": {
   "display_name": "base",
   "language": "python",
   "name": "python3"
  },
  "language_info": {
   "codemirror_mode": {
    "name": "ipython",
    "version": 3
   },
   "file_extension": ".py",
   "mimetype": "text/x-python",
   "name": "python",
   "nbconvert_exporter": "python",
   "pygments_lexer": "ipython3",
   "version": "3.11.7"
  }
 },
 "nbformat": 4,
 "nbformat_minor": 2
}
