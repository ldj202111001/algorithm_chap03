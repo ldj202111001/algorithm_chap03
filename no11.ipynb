{
 "cells": [
  {
   "cell_type": "markdown",
   "metadata": {},
   "source": [
    "# 파이썬 알고리즘 연습문제 3장 11번 문제"
   ]
  },
  {
   "cell_type": "markdown",
   "metadata": {},
   "source": [
    "## 1-1) 억지기법 알고리즘:"
   ]
  },
  {
   "cell_type": "code",
   "execution_count": 16,
   "metadata": {},
   "outputs": [
    {
     "name": "stdout",
     "output_type": "stream",
     "text": [
      "\n",
      "\n",
      "serck"
     ]
    }
   ],
   "source": [
    "a = input('문자열 입력: ')\n",
    "start, end = input('탐색할 시작 문자열과 끝 문자열 입력: ').split()\n",
    "\n",
    "def find_substring(a, start, end):\n",
    "    n = len(a)  # 입력받은 전체 문자열의 길이\n",
    "\n",
    "    for i in range(n):\n",
    "        if a[i] == start:          # 시작 문자열을 찾았을 때\n",
    "            for j in range(i,n):   # 끝 문자열도 찾기\n",
    "                if a[j] == end:    # 끝 문자열을 찾았다면 \n",
    "                    print(\"\\n\")\n",
    "                    for k in range(i,j+1):     # 찾았던 시작 문자열 부터 끝 문자열 까지\n",
    "                        print(a[k] , end=\"\")   # 모두 출력  -> 그리고 다음 끝 문자열 찾기\n",
    "                    \n",
    "find_substring(a, start, end)\n",
    "\n",
    "\n"
   ]
  },
  {
   "cell_type": "markdown",
   "metadata": {},
   "source": [
    "## 1-2) 시간복잡도 분석:\n",
    "  \n",
    "     "
   ]
  },
  {
   "cell_type": "markdown",
   "metadata": {},
   "source": [
    "## 2) 더 효울적인 알고리즘 (KMP)"
   ]
  }
 ],
 "metadata": {
  "kernelspec": {
   "display_name": "Python 3",
   "language": "python",
   "name": "python3"
  },
  "language_info": {
   "codemirror_mode": {
    "name": "ipython",
    "version": 3
   },
   "file_extension": ".py",
   "mimetype": "text/x-python",
   "name": "python",
   "nbconvert_exporter": "python",
   "pygments_lexer": "ipython3",
   "version": "3.12.2"
  }
 },
 "nbformat": 4,
 "nbformat_minor": 2
}
