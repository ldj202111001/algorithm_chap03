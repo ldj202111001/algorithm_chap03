{
 "cells": [
  {
   "cell_type": "markdown",
   "metadata": {},
   "source": [
    "# 파이썬 알고리즘 연습문제 3장 11번 문제"
   ]
  },
  {
   "cell_type": "markdown",
   "metadata": {},
   "source": [
    "## 1-1) 억지기법 알고리즘:"
   ]
  },
  {
   "cell_type": "code",
   "execution_count": 5,
   "metadata": {},
   "outputs": [
    {
     "name": "stdout",
     "output_type": "stream",
     "text": [
      "\n",
      "\n",
      "ab\n",
      "\n",
      "abwerocjtb"
     ]
    }
   ],
   "source": [
    "a = input('문자열 입력: ')\n",
    "start, end = input('탐색할 시작 문자열과 끝 문자열 입력: ').split()\n",
    "\n",
    "def find_substring(a, start, end): # 매개변수: 사용자가 입력한 문자열, 시작 문자열, 끝 문자열\n",
    "    n = len(a)  # 입력받은 전체 문자열의 길이\n",
    "\n",
    "    for i in range(n):\n",
    "        if a[i] == start:          # 시작 문자열을 찾았을 때\n",
    "            for j in range(i,n):   # 끝 문자열도 찾기\n",
    "                if a[j] == end:    # 끝 문자열을 찾았다면 \n",
    "                    print(\"\\n\")\n",
    "                    for k in range(i,j+1):     # 찾았던 시작 문자열 부터 끝 문자열 까지\n",
    "                        print(a[k] , end=\"\")   # 모두 출력  -> 그리고 다음 끝 문자열 찾기\n",
    "                    \n",
    "find_substring(a, start, end)\n",
    "\n",
    "\n"
   ]
  },
  {
   "attachments": {
    "image.png": {
     "image/png": "[encoded data removed]"
    }
   },
   "cell_type": "markdown",
   "metadata": {},
   "source": [
    "## 1-2) 시간복잡도 분석:\n",
    "11행 ~ 13행 인   \n",
    "print(\"\\n\")  \n",
    "for k in range(i,j+1):     \n",
    "print(a[k] , end=\"\")   \n",
    "을 기본연산으로 잡는다.  \n",
    "![alt text](sigma.png)  \n",
    "\n",
    "\n",
    "시간복잡도는\n",
    "O(n) =  ![image.png](attachment:image.png)\n",
    "이된다.\n",
    "\n"
   ]
  },
  {
   "cell_type": "markdown",
   "metadata": {},
   "source": [
    "## 2) 더 효울적인 알고리즘\n",
    "\n",
    "1. 해시를 이용한 Rabin Karp 알고리즘과\n",
    "2. 이전에 검색한 정보를 활용하는 KMP 알고리즘이 있다."
   ]
  }
 ],
 "metadata": {
  "kernelspec": {
   "display_name": "Python 3",
   "language": "python",
   "name": "python3"
  },
  "language_info": {
   "codemirror_mode": {
    "name": "ipython",
    "version": 3
   },
   "file_extension": ".py",
   "mimetype": "text/x-python",
   "name": "python",
   "nbconvert_exporter": "python",
   "pygments_lexer": "ipython3",
   "version": "3.11.7"
  }
 },
 "nbformat": 4,
 "nbformat_minor": 2
}
